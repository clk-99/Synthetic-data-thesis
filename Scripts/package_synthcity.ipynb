{
 "cells": [
  {
   "cell_type": "code",
   "execution_count": 1,
   "metadata": {},
   "outputs": [
    {
     "name": "stderr",
     "output_type": "stream",
     "text": [
      "\\\\10.178.145.159\\DMAP_UWV\\CI_Analisten\\Users\\cke035\\Conda\\envs\\test\\lib\\site-packages\\tqdm\\auto.py:21: TqdmWarning: IProgress not found. Please update jupyter and ipywidgets. See https://ipywidgets.readthedocs.io/en/stable/user_install.html\n",
      "  from .autonotebook import tqdm as notebook_tqdm\n"
     ]
    }
   ],
   "source": [
    "import synthcity"
   ]
  },
  {
   "cell_type": "code",
   "execution_count": 5,
   "metadata": {},
   "outputs": [
    {
     "data": {
      "text/plain": [
       "['tvae', 'ddpm', 'ctgan', 'rtvae']"
      ]
     },
     "execution_count": 5,
     "metadata": {},
     "output_type": "execute_result"
    }
   ],
   "source": [
    "from synthcity.plugins import Plugins\n",
    "\n",
    "Plugins(categories=['generic']).list()"
   ]
  },
  {
   "cell_type": "code",
   "execution_count": 6,
   "metadata": {},
   "outputs": [
    {
     "name": "stderr",
     "output_type": "stream",
     "text": [
      "100%|██████████| 10/10 [01:16<00:00,  7.63s/it]\n"
     ]
    },
    {
     "data": {
      "text/plain": [
       "<synthcity.plugins.generic.plugin_ctgan.CTGANPlugin at 0x1450d60ed70>"
      ]
     },
     "execution_count": 6,
     "metadata": {},
     "output_type": "execute_result"
    }
   ],
   "source": [
    "from sklearn.datasets import load_iris\n",
    "from synthcity.plugins.core.dataloader import GenericDataLoader\n",
    "          \n",
    "X, y = load_iris(as_frame=True, return_X_y=True)\n",
    "X[\"target\"] = y\n",
    "X = GenericDataLoader(X)\n",
    "plugin_params = dict(\n",
    "    n_iter = 10\n",
    ")\n",
    "test_plugin = Plugins().get('ctgan',**plugin_params)\n",
    "test_plugin.fit(X, cond=y)"
   ]
  },
  {
   "attachments": {},
   "cell_type": "markdown",
   "metadata": {},
   "source": [
    "# TVAE"
   ]
  },
  {
   "cell_type": "code",
   "execution_count": 8,
   "metadata": {},
   "outputs": [
    {
     "name": "stderr",
     "output_type": "stream",
     "text": [
      "100%|██████████| 10/10 [04:30<00:00, 27.03s/it]\n"
     ]
    },
    {
     "data": {
      "text/plain": [
       "<synthcity.plugins.generic.plugin_tvae.TVAEPlugin at 0x1450d5e45e0>"
      ]
     },
     "execution_count": 8,
     "metadata": {},
     "output_type": "execute_result"
    }
   ],
   "source": [
    "from sklearn.datasets import load_iris\n",
    "from synthcity.plugins.core.dataloader import GenericDataLoader\n",
    "from synthcity.plugins.core.constraints import Constraints\n",
    "          \n",
    "X, y = load_iris(as_frame=True, return_X_y=True)\n",
    "X[\"target\"] = y\n",
    "X = GenericDataLoader(X)\n",
    "plugin_params = dict(\n",
    "    n_iter = 10\n",
    ")\n",
    "test_plugin = Plugins().get('tvae',**plugin_params)\n",
    "test_plugin.fit(X, cond=y)"
   ]
  },
  {
   "attachments": {},
   "cell_type": "markdown",
   "metadata": {},
   "source": [
    "# TABDDPM"
   ]
  },
  {
   "cell_type": "code",
   "execution_count": 9,
   "metadata": {},
   "outputs": [
    {
     "name": "stderr",
     "output_type": "stream",
     "text": [
      "Epoch: 100%|██████████| 10/10 [01:17<00:00,  7.79s/it, loss=3.22]\n"
     ]
    },
    {
     "data": {
      "text/plain": [
       "<synthcity.plugins.generic.plugin_ddpm.TabDDPMPlugin at 0x1450d67c6a0>"
      ]
     },
     "execution_count": 9,
     "metadata": {},
     "output_type": "execute_result"
    }
   ],
   "source": [
    "from sklearn.datasets import load_iris\n",
    "from synthcity.plugins.core.dataloader import GenericDataLoader\n",
    "from synthcity.plugins.core.constraints import Constraints\n",
    "          \n",
    "X, y = load_iris(as_frame=True, return_X_y=True)\n",
    "X[\"target\"] = y\n",
    "X = GenericDataLoader(X)\n",
    "plugin_params = dict(\n",
    "    n_iter = 10\n",
    ")\n",
    "test_plugin = Plugins().get('ddpm',**plugin_params)\n",
    "test_plugin.fit(X, cond=y)"
   ]
  }
 ],
 "metadata": {
  "kernelspec": {
   "display_name": "test",
   "language": "python",
   "name": "python3"
  },
  "language_info": {
   "codemirror_mode": {
    "name": "ipython",
    "version": 3
   },
   "file_extension": ".py",
   "mimetype": "text/x-python",
   "name": "python",
   "nbconvert_exporter": "python",
   "pygments_lexer": "ipython3",
   "version": "3.10.11"
  },
  "orig_nbformat": 4
 },
 "nbformat": 4,
 "nbformat_minor": 2
}
